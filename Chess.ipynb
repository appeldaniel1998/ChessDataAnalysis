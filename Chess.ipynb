{
 "cells": [
  {
   "cell_type": "code",
   "id": "initial_id",
   "metadata": {
    "collapsed": true,
    "ExecuteTime": {
     "end_time": "2024-07-15T08:21:15.646278Z",
     "start_time": "2024-07-15T08:21:14.613712Z"
    }
   },
   "source": [
    "import pandas as pd\n",
    "import numpy as np\n",
    "import matplotlib.pyplot as plt\n",
    "\n"
   ],
   "outputs": [],
   "execution_count": 1
  },
  {
   "metadata": {
    "ExecuteTime": {
     "end_time": "2024-07-15T08:32:51.346899Z",
     "start_time": "2024-07-15T08:31:42.286328Z"
    }
   },
   "cell_type": "code",
   "source": [
    "#Preprocecing\n",
    "#First of all we will check how many null values there are in each column\n",
    "df = pd.read_csv('chess_games.csv')\n"
   ],
   "id": "e41642d5a712d26c",
   "outputs": [],
   "execution_count": 6
  },
  {
   "metadata": {
    "ExecuteTime": {
     "end_time": "2024-07-15T08:36:55.146201Z",
     "start_time": "2024-07-15T08:36:54.283200Z"
    }
   },
   "cell_type": "code",
   "source": [
    "df_first_lines = df.head(50000)\n",
    "df_first_lines.to_csv('shorterChessDf.csv', index=False)"
   ],
   "id": "e873c9438f728999",
   "outputs": [],
   "execution_count": 9
  },
  {
   "metadata": {},
   "cell_type": "code",
   "outputs": [],
   "execution_count": null,
   "source": "",
   "id": "c71f4438534555b5"
  },
  {
   "metadata": {},
   "cell_type": "code",
   "outputs": [],
   "execution_count": null,
   "source": [
    "# Display the data types of each column\n",
    "print(df.dtypes)"
   ],
   "id": "ac1f7a6670388842"
  },
  {
   "metadata": {},
   "cell_type": "code",
   "outputs": [],
   "execution_count": null,
   "source": [
    "# Counting null values in each column\n",
    "null_counts = df.isnull().sum()\n",
    "\n",
    "print(null_counts)\n"
   ],
   "id": "2f792fd5a1e312b4"
  },
  {
   "metadata": {},
   "cell_type": "code",
   "outputs": [],
   "execution_count": null,
   "source": [
    "\n",
    "# Counting unique values in each column\n",
    "unique_counts = df.nunique()\n",
    "\n",
    "print(unique_counts)"
   ],
   "id": "6a7fc5f40961f4c0"
  },
  {
   "metadata": {},
   "cell_type": "code",
   "outputs": [],
   "execution_count": null,
   "source": "",
   "id": "aefa99e95edbf316"
  },
  {
   "metadata": {},
   "cell_type": "code",
   "outputs": [],
   "execution_count": null,
   "source": "",
   "id": "cf9d4bbe62251bee"
  },
  {
   "metadata": {},
   "cell_type": "code",
   "outputs": [],
   "execution_count": null,
   "source": "",
   "id": "25f7f3e8be98651c"
  },
  {
   "metadata": {},
   "cell_type": "code",
   "outputs": [],
   "execution_count": null,
   "source": "",
   "id": "27635e393ed4f299"
  },
  {
   "metadata": {},
   "cell_type": "code",
   "outputs": [],
   "execution_count": null,
   "source": "",
   "id": "47a15bfd3f684819"
  },
  {
   "metadata": {},
   "cell_type": "code",
   "outputs": [],
   "execution_count": null,
   "source": "",
   "id": "9ecc1c040ad42690"
  },
  {
   "metadata": {},
   "cell_type": "code",
   "outputs": [],
   "execution_count": null,
   "source": "",
   "id": "e96252db4ace087a"
  },
  {
   "metadata": {},
   "cell_type": "code",
   "outputs": [],
   "execution_count": null,
   "source": "",
   "id": "ec7976483278558f"
  }
 ],
 "metadata": {
  "kernelspec": {
   "display_name": "Python 3",
   "language": "python",
   "name": "python3"
  },
  "language_info": {
   "codemirror_mode": {
    "name": "ipython",
    "version": 2
   },
   "file_extension": ".py",
   "mimetype": "text/x-python",
   "name": "python",
   "nbconvert_exporter": "python",
   "pygments_lexer": "ipython2",
   "version": "2.7.6"
  }
 },
 "nbformat": 4,
 "nbformat_minor": 5
}
