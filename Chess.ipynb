{
 "cells": [
  {
   "cell_type": "code",
   "id": "initial_id",
   "metadata": {
    "collapsed": true,
    "ExecuteTime": {
     "end_time": "2024-07-15T08:21:15.646278Z",
     "start_time": "2024-07-15T08:21:14.613712Z"
    }
   },
   "source": [
    "import pandas as pd\n",
    "import numpy as np\n",
    "import matplotlib.pyplot as plt\n",
    "\n"
   ],
   "outputs": [],
   "execution_count": 1
  },
  {
   "metadata": {
    "ExecuteTime": {
     "end_time": "2024-07-15T08:32:51.346899Z",
     "start_time": "2024-07-15T08:31:42.286328Z"
    }
   },
   "cell_type": "code",
   "source": [
    "#Preprocecing\n",
    "#First of all we will check how many null values there are in each column\n",
    "df = pd.read_csv('chess_games.csv')\n"
   ],
   "id": "e41642d5a712d26c",
   "outputs": [],
   "execution_count": 6
  },
  {
   "metadata": {
    "ExecuteTime": {
     "end_time": "2024-07-15T08:36:55.146201Z",
     "start_time": "2024-07-15T08:36:54.283200Z"
    }
   },
   "cell_type": "code",
   "source": [
    "df_first_lines = df.head(50000)\n",
    "df_first_lines.to_csv('shorterChessDf.csv', index=False)"
   ],
   "id": "e873c9438f728999",
   "outputs": [],
   "execution_count": 9
  },
  {
   "metadata": {
    "ExecuteTime": {
     "end_time": "2024-07-15T08:44:07.216838Z",
     "start_time": "2024-07-15T08:44:07.204890Z"
    }
   },
   "cell_type": "code",
   "source": "df_first_lines.head(5)",
   "id": "c71f4438534555b5",
   "outputs": [
    {
     "data": {
      "text/plain": [
       "                Event            White       Black Result     UTCDate  \\\n",
       "0          Classical           eisaaaa    HAMID449    1-0  2016.06.30   \n",
       "1              Blitz            go4jas  Sergei1973    0-1  2016.06.30   \n",
       "2   Blitz tournament   Evangelistaizac      kafune    1-0  2016.06.30   \n",
       "3     Correspondence            Jvayne    Wsjvayne    1-0  2016.06.30   \n",
       "4   Blitz tournament            kyoday   BrettDale    0-1  2016.06.30   \n",
       "\n",
       "    UTCTime  WhiteElo  BlackElo  WhiteRatingDiff  BlackRatingDiff  ECO  \\\n",
       "0  22:00:01      1901      1896             11.0            -11.0  D10   \n",
       "1  22:00:01      1641      1627            -11.0             12.0  C20   \n",
       "2  22:00:02      1647      1688             13.0            -13.0  B01   \n",
       "3  22:00:02      1706      1317             27.0            -25.0  A00   \n",
       "4  22:00:02      1945      1900            -14.0             13.0  B90   \n",
       "\n",
       "                                         Opening TimeControl   Termination  \\\n",
       "0                                   Slav Defense       300+5  Time forfeit   \n",
       "1                      King's Pawn Opening: 2.b3       300+0        Normal   \n",
       "2  Scandinavian Defense: Mieses-Kotroc Variation       180+0  Time forfeit   \n",
       "3                           Van't Kruijs Opening           -        Normal   \n",
       "4    Sicilian Defense: Najdorf, Lipnitsky Attack       180+0  Time forfeit   \n",
       "\n",
       "                                                  AN  \n",
       "0  1. d4 d5 2. c4 c6 3. e3 a6 4. Nf3 e5 5. cxd5 e...  \n",
       "1  1. e4 e5 2. b3 Nf6 3. Bb2 Nc6 4. Nf3 d6 5. d3 ...  \n",
       "2  1. e4 d5 2. exd5 Qxd5 3. Nf3 Bg4 4. Be2 Nf6 5....  \n",
       "3  1. e3 Nf6 2. Bc4 d6 3. e4 e6 4. Nf3 Nxe4 5. Nd...  \n",
       "4  1. e4 c5 2. Nf3 d6 3. d4 cxd4 4. Nxd4 Nf6 5. N...  "
      ],
      "text/html": [
       "<div>\n",
       "<style scoped>\n",
       "    .dataframe tbody tr th:only-of-type {\n",
       "        vertical-align: middle;\n",
       "    }\n",
       "\n",
       "    .dataframe tbody tr th {\n",
       "        vertical-align: top;\n",
       "    }\n",
       "\n",
       "    .dataframe thead th {\n",
       "        text-align: right;\n",
       "    }\n",
       "</style>\n",
       "<table border=\"1\" class=\"dataframe\">\n",
       "  <thead>\n",
       "    <tr style=\"text-align: right;\">\n",
       "      <th></th>\n",
       "      <th>Event</th>\n",
       "      <th>White</th>\n",
       "      <th>Black</th>\n",
       "      <th>Result</th>\n",
       "      <th>UTCDate</th>\n",
       "      <th>UTCTime</th>\n",
       "      <th>WhiteElo</th>\n",
       "      <th>BlackElo</th>\n",
       "      <th>WhiteRatingDiff</th>\n",
       "      <th>BlackRatingDiff</th>\n",
       "      <th>ECO</th>\n",
       "      <th>Opening</th>\n",
       "      <th>TimeControl</th>\n",
       "      <th>Termination</th>\n",
       "      <th>AN</th>\n",
       "    </tr>\n",
       "  </thead>\n",
       "  <tbody>\n",
       "    <tr>\n",
       "      <th>0</th>\n",
       "      <td>Classical</td>\n",
       "      <td>eisaaaa</td>\n",
       "      <td>HAMID449</td>\n",
       "      <td>1-0</td>\n",
       "      <td>2016.06.30</td>\n",
       "      <td>22:00:01</td>\n",
       "      <td>1901</td>\n",
       "      <td>1896</td>\n",
       "      <td>11.0</td>\n",
       "      <td>-11.0</td>\n",
       "      <td>D10</td>\n",
       "      <td>Slav Defense</td>\n",
       "      <td>300+5</td>\n",
       "      <td>Time forfeit</td>\n",
       "      <td>1. d4 d5 2. c4 c6 3. e3 a6 4. Nf3 e5 5. cxd5 e...</td>\n",
       "    </tr>\n",
       "    <tr>\n",
       "      <th>1</th>\n",
       "      <td>Blitz</td>\n",
       "      <td>go4jas</td>\n",
       "      <td>Sergei1973</td>\n",
       "      <td>0-1</td>\n",
       "      <td>2016.06.30</td>\n",
       "      <td>22:00:01</td>\n",
       "      <td>1641</td>\n",
       "      <td>1627</td>\n",
       "      <td>-11.0</td>\n",
       "      <td>12.0</td>\n",
       "      <td>C20</td>\n",
       "      <td>King's Pawn Opening: 2.b3</td>\n",
       "      <td>300+0</td>\n",
       "      <td>Normal</td>\n",
       "      <td>1. e4 e5 2. b3 Nf6 3. Bb2 Nc6 4. Nf3 d6 5. d3 ...</td>\n",
       "    </tr>\n",
       "    <tr>\n",
       "      <th>2</th>\n",
       "      <td>Blitz tournament</td>\n",
       "      <td>Evangelistaizac</td>\n",
       "      <td>kafune</td>\n",
       "      <td>1-0</td>\n",
       "      <td>2016.06.30</td>\n",
       "      <td>22:00:02</td>\n",
       "      <td>1647</td>\n",
       "      <td>1688</td>\n",
       "      <td>13.0</td>\n",
       "      <td>-13.0</td>\n",
       "      <td>B01</td>\n",
       "      <td>Scandinavian Defense: Mieses-Kotroc Variation</td>\n",
       "      <td>180+0</td>\n",
       "      <td>Time forfeit</td>\n",
       "      <td>1. e4 d5 2. exd5 Qxd5 3. Nf3 Bg4 4. Be2 Nf6 5....</td>\n",
       "    </tr>\n",
       "    <tr>\n",
       "      <th>3</th>\n",
       "      <td>Correspondence</td>\n",
       "      <td>Jvayne</td>\n",
       "      <td>Wsjvayne</td>\n",
       "      <td>1-0</td>\n",
       "      <td>2016.06.30</td>\n",
       "      <td>22:00:02</td>\n",
       "      <td>1706</td>\n",
       "      <td>1317</td>\n",
       "      <td>27.0</td>\n",
       "      <td>-25.0</td>\n",
       "      <td>A00</td>\n",
       "      <td>Van't Kruijs Opening</td>\n",
       "      <td>-</td>\n",
       "      <td>Normal</td>\n",
       "      <td>1. e3 Nf6 2. Bc4 d6 3. e4 e6 4. Nf3 Nxe4 5. Nd...</td>\n",
       "    </tr>\n",
       "    <tr>\n",
       "      <th>4</th>\n",
       "      <td>Blitz tournament</td>\n",
       "      <td>kyoday</td>\n",
       "      <td>BrettDale</td>\n",
       "      <td>0-1</td>\n",
       "      <td>2016.06.30</td>\n",
       "      <td>22:00:02</td>\n",
       "      <td>1945</td>\n",
       "      <td>1900</td>\n",
       "      <td>-14.0</td>\n",
       "      <td>13.0</td>\n",
       "      <td>B90</td>\n",
       "      <td>Sicilian Defense: Najdorf, Lipnitsky Attack</td>\n",
       "      <td>180+0</td>\n",
       "      <td>Time forfeit</td>\n",
       "      <td>1. e4 c5 2. Nf3 d6 3. d4 cxd4 4. Nxd4 Nf6 5. N...</td>\n",
       "    </tr>\n",
       "  </tbody>\n",
       "</table>\n",
       "</div>"
      ]
     },
     "execution_count": 10,
     "metadata": {},
     "output_type": "execute_result"
    }
   ],
   "execution_count": 10
  },
  {
   "metadata": {
    "ExecuteTime": {
     "end_time": "2024-07-15T08:47:08.375916Z",
     "start_time": "2024-07-15T08:47:08.373267Z"
    }
   },
   "cell_type": "code",
   "source": "",
   "id": "35c33083b3c81055",
   "outputs": [],
   "execution_count": 10
  },
  {
   "metadata": {
    "ExecuteTime": {
     "end_time": "2024-07-15T08:47:43.379445Z",
     "start_time": "2024-07-15T08:47:43.374923Z"
    }
   },
   "cell_type": "code",
   "source": [
    "def split_chess_moves(moves, turns):\n",
    "    move_list = moves.split()\n",
    "    separated_moves = []\n",
    "    turn_number = 1\n",
    "    for i in range(0, len(move_list), 3):\n",
    "        if turn_number > turns:\n",
    "            break\n",
    "        separated_moves.append(move_list[i + 1] if i + 1 < len(move_list) else \"\")\n",
    "        separated_moves.append(move_list[i + 2] if i + 2 < len(move_list) else \"\")\n",
    "        turn_number += 1\n",
    "    return separated_moves"
   ],
   "id": "8b5a72c36cc93f61",
   "outputs": [],
   "execution_count": 11
  },
  {
   "metadata": {
    "jupyter": {
     "is_executing": true
    },
    "ExecuteTime": {
     "start_time": "2024-07-15T08:48:05.198833Z"
    }
   },
   "cell_type": "code",
   "source": [
    "# Specify the number of turns you want to extract\n",
    "number_of_turns = 5  # Example: First 5 turns\n",
    "\n",
    "# Create new columns for the specified number of turns\n",
    "columns = [f\"Turn {i+1} White\" for i in range(number_of_turns)] + [f\"Turn {i+1} Black\" for i in range(number_of_turns)]\n",
    "\n",
    "# Apply the split_chess_moves function to each row in the DataFrame\n",
    "df[columns] = df.iloc[:, -1].apply(lambda x: pd.Series(split_chess_moves(x, number_of_turns)))\n",
    "\n",
    "# Save the modified DataFrame to a CSV file\n",
    "output_file = 'modified_dataframe.csv'  # Replace with your output CSV file name\n",
    "df.to_csv(output_file, index=False)"
   ],
   "id": "8f52fa77395ee604",
   "outputs": [],
   "execution_count": null
  },
  {
   "metadata": {},
   "cell_type": "code",
   "outputs": [],
   "execution_count": null,
   "source": "",
   "id": "4b6f319c19fbd393"
  },
  {
   "metadata": {},
   "cell_type": "code",
   "outputs": [],
   "execution_count": null,
   "source": "",
   "id": "470f5ad688b56626"
  },
  {
   "metadata": {},
   "cell_type": "code",
   "outputs": [],
   "execution_count": null,
   "source": "",
   "id": "51a08f2ac4f2e4a0"
  },
  {
   "metadata": {},
   "cell_type": "code",
   "outputs": [],
   "execution_count": null,
   "source": [
    "# Display the data types of each column\n",
    "print(df.dtypes)"
   ],
   "id": "ac1f7a6670388842"
  },
  {
   "metadata": {},
   "cell_type": "code",
   "outputs": [],
   "execution_count": null,
   "source": [
    "# Counting null values in each column\n",
    "null_counts = df.isnull().sum()\n",
    "\n",
    "print(null_counts)\n"
   ],
   "id": "2f792fd5a1e312b4"
  },
  {
   "metadata": {},
   "cell_type": "code",
   "outputs": [],
   "execution_count": null,
   "source": [
    "\n",
    "# Counting unique values in each column\n",
    "unique_counts = df.nunique()\n",
    "\n",
    "print(unique_counts)"
   ],
   "id": "6a7fc5f40961f4c0"
  },
  {
   "metadata": {},
   "cell_type": "code",
   "outputs": [],
   "execution_count": null,
   "source": "",
   "id": "aefa99e95edbf316"
  },
  {
   "metadata": {},
   "cell_type": "code",
   "outputs": [],
   "execution_count": null,
   "source": "",
   "id": "cf9d4bbe62251bee"
  },
  {
   "metadata": {},
   "cell_type": "code",
   "outputs": [],
   "execution_count": null,
   "source": "",
   "id": "25f7f3e8be98651c"
  },
  {
   "metadata": {},
   "cell_type": "code",
   "outputs": [],
   "execution_count": null,
   "source": "",
   "id": "27635e393ed4f299"
  },
  {
   "metadata": {},
   "cell_type": "code",
   "outputs": [],
   "execution_count": null,
   "source": "",
   "id": "47a15bfd3f684819"
  },
  {
   "metadata": {},
   "cell_type": "code",
   "outputs": [],
   "execution_count": null,
   "source": "",
   "id": "9ecc1c040ad42690"
  },
  {
   "metadata": {},
   "cell_type": "code",
   "outputs": [],
   "execution_count": null,
   "source": "",
   "id": "e96252db4ace087a"
  },
  {
   "metadata": {},
   "cell_type": "code",
   "outputs": [],
   "execution_count": null,
   "source": "",
   "id": "ec7976483278558f"
  }
 ],
 "metadata": {
  "kernelspec": {
   "display_name": "Python 3",
   "language": "python",
   "name": "python3"
  },
  "language_info": {
   "codemirror_mode": {
    "name": "ipython",
    "version": 2
   },
   "file_extension": ".py",
   "mimetype": "text/x-python",
   "name": "python",
   "nbconvert_exporter": "python",
   "pygments_lexer": "ipython2",
   "version": "2.7.6"
  }
 },
 "nbformat": 4,
 "nbformat_minor": 5
}
